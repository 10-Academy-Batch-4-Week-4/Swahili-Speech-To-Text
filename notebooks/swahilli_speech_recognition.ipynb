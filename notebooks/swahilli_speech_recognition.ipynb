{
 "cells": [
  {
   "cell_type": "markdown",
   "metadata": {},
   "source": [
    "# Speech Recognition"
   ]
  },
  {
   "cell_type": "markdown",
   "metadata": {},
   "source": [
    "## Imports"
   ]
  },
  {
   "cell_type": "code",
   "execution_count": null,
   "metadata": {
    "id": "8DB4X_g6ovq6"
   },
   "outputs": [],
   "source": [
    "import os\n",
    "import pickle\n",
    "import librosa\n",
    "import pandas as pd\n",
    "import warnings\n",
    "warnings.filterwarnings('ignore', category=DeprecationWarning)\n",
    "warnings.filterwarnings('ignore', category=FutureWarning)\n",
    "\n",
    "from IPython.display import Audio\n",
    "\n",
    "import librosa.display\n",
    "import matplotlib.pyplot as plt\n",
    "import numpy as np\n",
    "import tensorflow as tf\n",
    "\n",
    "from tensorflow.keras.models import Model, Sequential\n",
    "from tensorflow.keras.layers import *\n",
    "from tensorflow.keras.preprocessing.sequence import pad_sequences\n",
    "from tensorflow.keras.optimizers import SGD, Adam, RMSprop\n",
    "from tensorflow.keras import backend as K"
   ]
  },
  {
   "cell_type": "markdown",
   "metadata": {},
   "source": [
    "## Data Preparation"
   ]
  },
  {
   "cell_type": "code",
   "execution_count": null,
   "metadata": {
    "colab": {
     "base_uri": "https://localhost:8080/"
    },
    "id": "ZP9qdhcRiyUG",
    "outputId": "647279b8-2180-495c-c9b5-444aad8d6f69"
   },
   "outputs": [
    {
     "data": {
      "text/plain": "[{'filename': 'SWH-05-20101106_16k-emission_swahili_05h30_-_06h00_tu_20101106_part102',\n  'audio': array([-0.01096754, -0.01230842, -0.01015999, ..., -0.21667908,\n         -0.20379573, -0.11009098], dtype=float32)},\n {'filename': 'SWH-05-20101106_16k-emission_swahili_05h30_-_06h00_tu_20101106_part107',\n  'audio': array([-0.00262849, -0.00256155, -0.00178459, ..., -0.2567303 ,\n         -0.21261317,  0.        ], dtype=float32)},\n {'filename': 'SWH-05-20101106_16k-emission_swahili_05h30_-_06h00_tu_20101106_part12',\n  'audio': array([-0.00823285, -0.00249539, -0.00311783, ..., -0.18402188,\n         -0.19362031, -0.11912253], dtype=float32)},\n {'filename': 'SWH-05-20101106_16k-emission_swahili_05h30_-_06h00_tu_20101106_part64',\n  'audio': array([ 0.00796661,  0.0098575 ,  0.0089713 , ...,  0.08651416,\n          0.04152827, -0.00214096], dtype=float32)},\n {'filename': 'SWH-05-20101106_16k-emission_swahili_05h30_-_06h00_tu_20101106_part68',\n  'audio': array([-0.0083479 , -0.0101786 , -0.01026751, ...,  0.0113914 ,\n          0.02161873,  0.        ], dtype=float32)}]"
     },
     "output_type": "unknown"
    }
   ],
   "source": [
    "rows = []\n",
    "parent_dir = \"../SWH-05-20101106\"\n",
    "files = os.listdir(parent_dir)\n",
    "for f in files:\n",
    "    audio, fs = librosa.load(f\"{parent_dir}/{f}\")\n",
    "    filename = f.split('.')[0]\n",
    "    row = {'filename': filename, 'audio': audio}\n",
    "    rows.append(row)\n",
    "rows[:5]"
   ]
  },
  {
   "cell_type": "code",
   "execution_count": null,
   "metadata": {
    "colab": {
     "base_uri": "https://localhost:8080/"
    },
    "id": "c8NByqTOUhRd",
    "outputId": "928568e2-fc8f-4100-a143-57e344e6cfc2"
   },
   "outputs": [
    {
     "data": {
      "text/plain": "[array([-0.01096754, -0.01230842, -0.01015999, ..., -0.21667908,\n        -0.20379573, -0.11009098], dtype=float32),\n array([-0.00262849, -0.00256155, -0.00178459, ..., -0.2567303 ,\n        -0.21261317,  0.        ], dtype=float32),\n array([-0.00823285, -0.00249539, -0.00311783, ..., -0.18402188,\n        -0.19362031, -0.11912253], dtype=float32),\n array([ 0.00796661,  0.0098575 ,  0.0089713 , ...,  0.08651416,\n         0.04152827, -0.00214096], dtype=float32),\n array([-0.0083479 , -0.0101786 , -0.01026751, ...,  0.0113914 ,\n         0.02161873,  0.        ], dtype=float32)]"
     },
     "output_type": "unknown"
    }
   ],
   "source": [
    "sample_audios = []\n",
    "for row in rows:\n",
    "    audio = row['audio']\n",
    "    sample_audios.append(audio)\n",
    "sample_audios[:5]"
   ]
  },
  {
   "cell_type": "code",
   "execution_count": null,
   "metadata": {
    "id": "8H6faM08QvZ2"
   },
   "outputs": [],
   "source": [
    "meta_df = pd.read_csv('../metadata.csv')"
   ]
  },
  {
   "cell_type": "code",
   "execution_count": null,
   "metadata": {
    "colab": {
     "base_uri": "https://localhost:8080/",
     "height": 289
    },
    "id": "bVVnaH5DT6DG",
    "outputId": "3a897f5c-02ae-4bd3-efc6-63bad140ca2c"
   },
   "outputs": [
    {
     "data": {
      "text/html": "<div>\n<style scoped>\n    .dataframe tbody tr th:only-of-type {\n        vertical-align: middle;\n    }\n\n    .dataframe tbody tr th {\n        vertical-align: top;\n    }\n\n    .dataframe thead th {\n        text-align: right;\n    }\n</style>\n<table border=\"1\" class=\"dataframe\">\n  <thead>\n    <tr style=\"text-align: right;\">\n      <th></th>\n      <th>filename</th>\n      <th>transcription</th>\n      <th>filepath</th>\n      <th>sample_rate</th>\n      <th>duration</th>\n    </tr>\n  </thead>\n  <tbody>\n    <tr>\n      <th>0</th>\n      <td>SWH-05-20101106_16k-emission_swahili_05h30_-_0...</td>\n      <td>rais wa tanzania jakaya mrisho kikwete</td>\n      <td>SWH-05-20101106/SWH-05-20101106_16k-emission_s...</td>\n      <td>16000</td>\n      <td>3.14</td>\n    </tr>\n    <tr>\n      <th>1</th>\n      <td>SWH-05-20101106_16k-emission_swahili_05h30_-_0...</td>\n      <td>yanayo andaliwa nami pendo pondo idhaa ya kisw...</td>\n      <td>SWH-05-20101106/SWH-05-20101106_16k-emission_s...</td>\n      <td>16000</td>\n      <td>3.10</td>\n    </tr>\n    <tr>\n      <th>2</th>\n      <td>SWH-05-20101106_16k-emission_swahili_05h30_-_0...</td>\n      <td>inayokutangazia moja kwa moja kutoka jijini da...</td>\n      <td>SWH-05-20101106/SWH-05-20101106_16k-emission_s...</td>\n      <td>16000</td>\n      <td>3.65</td>\n    </tr>\n    <tr>\n      <th>3</th>\n      <td>SWH-05-20101106_16k-emission_swahili_05h30_-_0...</td>\n      <td>juma hili bara la afrika limeshuhudia raia wa ...</td>\n      <td>SWH-05-20101106/SWH-05-20101106_16k-emission_s...</td>\n      <td>16000</td>\n      <td>3.90</td>\n    </tr>\n    <tr>\n      <th>4</th>\n      <td>SWH-05-20101106_16k-emission_swahili_05h30_-_0...</td>\n      <td>wakipiga kura ya maoni ilikufanya mabadiliko ya</td>\n      <td>SWH-05-20101106/SWH-05-20101106_16k-emission_s...</td>\n      <td>16000</td>\n      <td>2.94</td>\n    </tr>\n  </tbody>\n</table>\n</div>",
      "text/plain": "                                            filename  \\\n0  SWH-05-20101106_16k-emission_swahili_05h30_-_0...   \n1  SWH-05-20101106_16k-emission_swahili_05h30_-_0...   \n2  SWH-05-20101106_16k-emission_swahili_05h30_-_0...   \n3  SWH-05-20101106_16k-emission_swahili_05h30_-_0...   \n4  SWH-05-20101106_16k-emission_swahili_05h30_-_0...   \n\n                                       transcription  \\\n0             rais wa tanzania jakaya mrisho kikwete   \n1  yanayo andaliwa nami pendo pondo idhaa ya kisw...   \n2  inayokutangazia moja kwa moja kutoka jijini da...   \n3  juma hili bara la afrika limeshuhudia raia wa ...   \n4    wakipiga kura ya maoni ilikufanya mabadiliko ya   \n\n                                            filepath  sample_rate  duration  \n0  SWH-05-20101106/SWH-05-20101106_16k-emission_s...        16000      3.14  \n1  SWH-05-20101106/SWH-05-20101106_16k-emission_s...        16000      3.10  \n2  SWH-05-20101106/SWH-05-20101106_16k-emission_s...        16000      3.65  \n3  SWH-05-20101106/SWH-05-20101106_16k-emission_s...        16000      3.90  \n4  SWH-05-20101106/SWH-05-20101106_16k-emission_s...        16000      2.94  "
     },
     "output_type": "unknown"
    }
   ],
   "source": [
    "meta_df.head()"
   ]
  },
  {
   "cell_type": "code",
   "execution_count": null,
   "metadata": {
    "colab": {
     "base_uri": "https://localhost:8080/"
    },
    "id": "L4gKmDRi3YRo",
    "outputId": "9856621c-76fb-4165-c84c-4a0f59bc28b0"
   },
   "outputs": [
    {
     "data": {
      "text/plain": "16000    10180\nName: sample_rate, dtype: int64"
     },
     "output_type": "unknown"
    }
   ],
   "source": [
    "meta_df['sample_rate'].value_counts()"
   ]
  },
  {
   "cell_type": "code",
   "execution_count": null,
   "metadata": {
    "colab": {
     "base_uri": "https://localhost:8080/"
    },
    "id": "sPio4y_9RhvC",
    "outputId": "11664bc7-f4f9-4ca7-a8d8-e51082e08647"
   },
   "outputs": [
    {
     "data": {
      "text/plain": "['filename', 'transcription', 'filepath', 'sample_rate', 'duration']"
     },
     "output_type": "unknown"
    }
   ],
   "source": [
    "meta_df.columns.to_list()"
   ]
  },
  {
   "cell_type": "code",
   "execution_count": null,
   "metadata": {
    "colab": {
     "base_uri": "https://localhost:8080/"
    },
    "id": "gNHLp5mHSXbT",
    "outputId": "c5016151-e276-4a32-d608-e79168d2bc17"
   },
   "outputs": [
    {
     "data": {
      "text/plain": "[array([['juma hili bara la afrika limeshuhudia raia wa nchi za niger']],\n       dtype=object),\n array([['na rais aliyetangulia henry konan berdi']], dtype=object),\n array([['baada ya kushinda katika uchaguzi mkuu wa taifa hilo']],\n       dtype=object),\n array([['siku ya jumatano maharamia hao wa kisomali']], dtype=object),\n array([['pamoja na abiria ishirini wakiwemo raia wa madagascar']],\n       dtype=object)]"
     },
     "output_type": "unknown"
    }
   ],
   "source": [
    "txts = []\n",
    "for row in rows:\n",
    "    filename = row['filename']\n",
    "    filter = meta_df[meta_df['filename'] == filename]\n",
    "    txt = filter[['transcription']].values\n",
    "    txts.append(txt)\n",
    "\n",
    "txts[:5]"
   ]
  },
  {
   "cell_type": "code",
   "execution_count": null,
   "metadata": {
    "id": "QtbOxUt-Vvzr"
   },
   "outputs": [],
   "source": [
    "txts = np.array(txts).reshape(-1)"
   ]
  },
  {
   "cell_type": "code",
   "execution_count": null,
   "metadata": {
    "colab": {
     "base_uri": "https://localhost:8080/"
    },
    "id": "TdRmO_PMWK7M",
    "outputId": "ac00c082-2c8a-427a-ec61-fc2127ecc6bc"
   },
   "outputs": [
    {
     "data": {
      "text/plain": "array(['juma hili bara la afrika limeshuhudia raia wa nchi za niger',\n       'na rais aliyetangulia henry konan berdi',\n       'baada ya kushinda katika uchaguzi mkuu wa taifa hilo',\n       'siku ya jumatano maharamia hao wa kisomali',\n       'pamoja na abiria ishirini wakiwemo raia wa madagascar'],\n      dtype=object)"
     },
     "output_type": "unknown"
    }
   ],
   "source": [
    "txts[:5]"
   ]
  },
  {
   "cell_type": "code",
   "execution_count": null,
   "metadata": {
    "id": "bj7dp_XDZFpb"
   },
   "outputs": [],
   "source": [
    "clean_txts = []\n",
    "alphabets = 'a b c d e f g h i j k l m n o p q r s t u v w x y z'.split()\n",
    "for txt in txts:\n",
    "    clean_txt = []\n",
    "    for c in txt:\n",
    "        if c not in alphabets and c != ' ':\n",
    "            continue\n",
    "        clean_txt.append(c)\n",
    "    clean_txt = ''.join(clean_txt)\n",
    "    clean_txts.append(clean_txt)"
   ]
  },
  {
   "cell_type": "code",
   "execution_count": null,
   "metadata": {
    "colab": {
     "base_uri": "https://localhost:8080/"
    },
    "id": "hssO43laaId0",
    "outputId": "ff2a1320-85e4-4b6b-bad8-47a06097e194"
   },
   "outputs": [
    {
     "data": {
      "text/plain": "['juma hili bara la afrika limeshuhudia raia wa nchi za niger',\n 'na rais aliyetangulia henry konan berdi',\n 'baada ya kushinda katika uchaguzi mkuu wa taifa hilo',\n 'siku ya jumatano maharamia hao wa kisomali',\n 'pamoja na abiria ishirini wakiwemo raia wa madagascar']"
     },
     "output_type": "unknown"
    }
   ],
   "source": [
    "clean_txts[:5]"
   ]
  },
  {
   "cell_type": "code",
   "execution_count": null,
   "metadata": {},
   "outputs": [
    {
     "data": {
      "text/plain": "True"
     },
     "output_type": "unknown"
    }
   ],
   "source": [
    "'' in clean_txts"
   ]
  },
  {
   "cell_type": "code",
   "execution_count": null,
   "metadata": {},
   "outputs": [
    {
     "data": {
      "text/html": "<div>\n<style scoped>\n    .dataframe tbody tr th:only-of-type {\n        vertical-align: middle;\n    }\n\n    .dataframe tbody tr th {\n        vertical-align: top;\n    }\n\n    .dataframe thead th {\n        text-align: right;\n    }\n</style>\n<table border=\"1\" class=\"dataframe\">\n  <thead>\n    <tr style=\"text-align: right;\">\n      <th></th>\n      <th>texts</th>\n    </tr>\n  </thead>\n  <tbody>\n    <tr>\n      <th>0</th>\n      <td>juma hili bara la afrika limeshuhudia raia wa ...</td>\n    </tr>\n    <tr>\n      <th>1</th>\n      <td>na rais aliyetangulia henry konan berdi</td>\n    </tr>\n    <tr>\n      <th>2</th>\n      <td>baada ya kushinda katika uchaguzi mkuu wa taif...</td>\n    </tr>\n    <tr>\n      <th>3</th>\n      <td>siku ya jumatano maharamia hao wa kisomali</td>\n    </tr>\n    <tr>\n      <th>4</th>\n      <td>pamoja na abiria ishirini wakiwemo raia wa mad...</td>\n    </tr>\n  </tbody>\n</table>\n</div>",
      "text/plain": "                                               texts\n0  juma hili bara la afrika limeshuhudia raia wa ...\n1            na rais aliyetangulia henry konan berdi\n2  baada ya kushinda katika uchaguzi mkuu wa taif...\n3         siku ya jumatano maharamia hao wa kisomali\n4  pamoja na abiria ishirini wakiwemo raia wa mad..."
     },
     "output_type": "unknown"
    }
   ],
   "source": [
    "df = pd.DataFrame(clean_txts)\n",
    "df.columns = ['texts']\n",
    "df.head()"
   ]
  },
  {
   "cell_type": "code",
   "execution_count": null,
   "metadata": {},
   "outputs": [
    {
     "data": {
      "text/plain": "Int64Index([51, 161, 190], dtype='int64')"
     },
     "output_type": "unknown"
    }
   ],
   "source": [
    "idxs = df[df['texts'] == ''].index\n",
    "idxs"
   ]
  },
  {
   "cell_type": "code",
   "execution_count": null,
   "metadata": {},
   "outputs": [],
   "source": [
    "del clean_txts[idxs[-1]]\n",
    "del clean_txts[idxs[-2]]\n",
    "del clean_txts[idxs[-3]]"
   ]
  },
  {
   "cell_type": "code",
   "execution_count": null,
   "metadata": {},
   "outputs": [
    {
     "data": {
      "text/plain": "False"
     },
     "output_type": "unknown"
    }
   ],
   "source": [
    "'' in clean_txts"
   ]
  },
  {
   "cell_type": "code",
   "execution_count": null,
   "metadata": {},
   "outputs": [],
   "source": [
    "del sample_audios[idxs[-1]]\n",
    "del sample_audios[idxs[-2]]\n",
    "del sample_audios[idxs[-3]]"
   ]
  },
  {
   "cell_type": "markdown",
   "metadata": {
    "id": "P3Aa-Wdc7Rnq"
   },
   "source": [
    "## Tokenizer"
   ]
  },
  {
   "cell_type": "code",
   "execution_count": null,
   "metadata": {
    "colab": {
     "base_uri": "https://localhost:8080/"
    },
    "id": "30NG8Jgz1H56",
    "outputId": "686fe668-679b-4944-f761-902d9bcad9cf"
   },
   "outputs": [],
   "source": [
    "def character_dict():\n",
    "    alphabet = 'a b c d e f g h i j k l m n o p q r s t u v w x y z'\n",
    "    supported = alphabet.split()\n",
    "\n",
    "    char_map = {}\n",
    "    char_map[\"\"] = 0\n",
    "    char_map[\"<SPACE>\"] = 1\n",
    "    idx = 2\n",
    "    for c in supported:\n",
    "        char_map[c] = idx\n",
    "        idx += 1\n",
    "    index_map = {v: k for k, v in char_map.items()}\n",
    "    return char_map, index_map"
   ]
  },
  {
   "cell_type": "code",
   "execution_count": null,
   "metadata": {},
   "outputs": [],
   "source": [
    "char_map, index_map = character_dict()"
   ]
  },
  {
   "cell_type": "code",
   "execution_count": null,
   "metadata": {},
   "outputs": [
    {
     "data": {
      "text/plain": "{'': 0,\n '<SPACE>': 1,\n 'a': 2,\n 'b': 3,\n 'c': 4,\n 'd': 5,\n 'e': 6,\n 'f': 7,\n 'g': 8,\n 'h': 9,\n 'i': 10,\n 'j': 11,\n 'k': 12,\n 'l': 13,\n 'm': 14,\n 'n': 15,\n 'o': 16,\n 'p': 17,\n 'q': 18,\n 'r': 19,\n 's': 20,\n 't': 21,\n 'u': 22,\n 'v': 23,\n 'w': 24,\n 'x': 25,\n 'y': 26,\n 'z': 27}"
     },
     "output_type": "unknown"
    }
   ],
   "source": [
    "char_map"
   ]
  },
  {
   "cell_type": "code",
   "execution_count": null,
   "metadata": {
    "id": "C9nJ78TV8X-b"
   },
   "outputs": [],
   "source": [
    "def text_to_int_sequence(text):\n",
    "    \"\"\" Convert text to an integer sequence \"\"\"\n",
    "    int_sequence = []\n",
    "    for c in text:\n",
    "        if c == ' ':\n",
    "            ch = char_map['<SPACE>']\n",
    "        elif c in alphabets:\n",
    "            ch = char_map[c]\n",
    "        else:\n",
    "            print(c)\n",
    "            print('character not found')\n",
    "            break\n",
    "        int_sequence.append(ch)\n",
    "    return np.array(int_sequence)"
   ]
  },
  {
   "cell_type": "code",
   "execution_count": null,
   "metadata": {
    "id": "4y39Q5Bq6frJ"
   },
   "outputs": [],
   "source": [
    "def int_sequence_to_text(int_sequence):\n",
    "    \"\"\" Convert an integer sequence to text \"\"\"\n",
    "    textch = []\n",
    "    for c in int_sequence:\n",
    "        ch = index_map[c]\n",
    "        textch.append(ch)\n",
    "    text = ''.join(textch)\n",
    "    text = text.replace('<SPACE>', ' ')\n",
    "    return text"
   ]
  }
 ],
 "metadata": {
  "kernelspec": {
   "display_name": "Python 3.8.5 64-bit ('base': conda)",
   "name": "python385jvsc74a57bd0c30745a67ab3077685183c6616f760120387d2e186c7e6a99675e86d34cdfa12"
  },
  "language_info": {
   "name": "python",
   "version": ""
  },
  "orig_nbformat": 2
 },
 "nbformat": 4,
 "nbformat_minor": 2
}