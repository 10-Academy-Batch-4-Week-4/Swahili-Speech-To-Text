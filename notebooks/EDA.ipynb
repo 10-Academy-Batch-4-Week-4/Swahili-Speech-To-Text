{
  "nbformat": 4,
  "nbformat_minor": 0,
  "metadata": {
    "kernelspec": {
      "name": "python3",
      "display_name": "Python 3"
    },
    "metadata": {
      "interpreter": {
        "hash": "916dbcbb3f70747c44a77c7bcd40155683ae19c65e1c03b4aa3499c5328201f1"
      }
    },
    "orig_nbformat": 2,
    "colab": {
      "name": "EDA.ipynb",
      "provenance": []
    },
    "language_info": {
      "name": "python"
    }
  },
  "cells": [
    {
      "cell_type": "markdown",
      "metadata": {
        "id": "BWCk6i-xDbiw"
      },
      "source": [
        "# Exploratory Data Analysis"
      ]
    },
    {
      "cell_type": "markdown",
      "metadata": {
        "id": "3e-E32W5Ddas"
      },
      "source": [
        "## Reading Data"
      ]
    },
    {
      "cell_type": "code",
      "metadata": {
        "id": "5qG5KnLMDbi0"
      },
      "source": [
        ""
      ],
      "execution_count": null,
      "outputs": []
    },
    {
      "cell_type": "markdown",
      "metadata": {
        "id": "IyMtZyGUDxeX"
      },
      "source": [
        "## Plotting"
      ]
    },
    {
      "cell_type": "code",
      "metadata": {
        "id": "NkHcgY0-D0Uc"
      },
      "source": [
        "def meta_data(path):\n",
        "  df=pd.read_csv(path,sep=\"\\t\",header=None)\n",
        "  df.columns=['filename', 'transcription']\n",
        "  # df = df.head(50)\n",
        "  filepaths=[]\n",
        "  sample_rates=[]\n",
        "  duration=[]\n",
        "  for f in df['filename']:\n",
        "    parent_folder=f.split('_')[0]\n",
        "    filepath = f'{parent_folder}/{f}.wav'\n",
        "    audio, fs = librosa.load(filepath, sr=None)\n",
        "    filepaths.append(filepath)\n",
        "    sample_rates.append(fs)\n",
        "    duration.append(float(len(audio)/fs))\n",
        "  df['filepath'] = filepaths\n",
        "  df['sample_rate'] = sample_rates\n",
        "  df['duration'] = duration\n",
        "  return df"
      ],
      "execution_count": 1,
      "outputs": []
    }
  ]
}