{
 "cells": [
  {
   "cell_type": "markdown",
   "metadata": {
    "colab_type": "text",
    "id": "view-in-github"
   },
   "source": [
    "<a href=\"https://colab.research.google.com/github/katenjoki/Swahili-Speech-To-Text/blob/main/notebooks/EDA.ipynb\" target=\"_parent\"><img src=\"https://colab.research.google.com/assets/colab-badge.svg\" alt=\"Open In Colab\"/></a>"
   ]
  },
  {
   "cell_type": "markdown",
   "metadata": {
    "id": "BWCk6i-xDbiw"
   },
   "source": [
    "# Exploratory Data Analysis"
   ]
  },
  {
   "cell_type": "markdown",
   "metadata": {
    "id": "3e-E32W5Ddas"
   },
   "source": [
    "## Importing Libraries"
   ]
  },
  {
   "cell_type": "code",
   "execution_count": 46,
   "metadata": {},
   "outputs": [],
   "source": [
    "import os\n",
    "import sys\n",
    "sys.path.append(os.path.abspath(os.path.join(\"../scripts\")))\n",
    "import matplotlib.pyplot as plt\n",
    "import seaborn as sns\n",
    "from IPython.display import display\n",
    "import plots #plot scrpt\n",
    "import warnings\n",
    "warnings.filterwarnings('ignore')"
   ]
  },
  {
   "cell_type": "code",
   "execution_count": 1,
   "metadata": {
    "id": "5qG5KnLMDbi0"
   },
   "outputs": [],
   "source": [
    "'''import pandas as pd\n",
    "def audio_test(data:pd.DataFrame,col:str,row:int):\n",
    "  file=data[col].loc[row]\n",
    "  plt.figure(figsize=(12,6))\n",
    "  signal,sample_rate=librosa.load(file)\n",
    "  librosa.display.waveplot(signal,sr=sample_rate)\n",
    "  plt.xlabel('Time')\n",
    "  plt.ylabel('Amplitude')\n",
    "  plt.show()\n",
    "  return ipd.Audio(file)'''"
   ]
  },
  {
   "cell_type": "markdown",
   "metadata": {},
   "source": [
    "## Reading Data"
   ]
  },
  {
   "cell_type": "code",
   "execution_count": 4,
   "metadata": {},
   "outputs": [],
   "source": [
    "mata_data_path = \"../metadata.csv\""
   ]
  },
  {
   "cell_type": "markdown",
   "metadata": {
    "id": "IyMtZyGUDxeX"
   },
   "source": [
    "## Plotting"
   ]
  },
  {
   "cell_type": "code",
   "execution_count": 5,
   "metadata": {
    "id": "NkHcgY0-D0Uc"
   },
   "outputs": [],
   "source": [
    "meta_data = pd.read_csv(mata_data_path)"
   ]
  },
  {
   "cell_type": "code",
   "execution_count": 7,
   "metadata": {},
   "outputs": [
    {
     "data": {
      "text/html": [
       "<div>\n",
       "<style scoped>\n",
       "    .dataframe tbody tr th:only-of-type {\n",
       "        vertical-align: middle;\n",
       "    }\n",
       "\n",
       "    .dataframe tbody tr th {\n",
       "        vertical-align: top;\n",
       "    }\n",
       "\n",
       "    .dataframe thead th {\n",
       "        text-align: right;\n",
       "    }\n",
       "</style>\n",
       "<table border=\"1\" class=\"dataframe\">\n",
       "  <thead>\n",
       "    <tr style=\"text-align: right;\">\n",
       "      <th></th>\n",
       "      <th>filename</th>\n",
       "      <th>transcription</th>\n",
       "      <th>filepath</th>\n",
       "      <th>sample_rate</th>\n",
       "      <th>duration</th>\n",
       "    </tr>\n",
       "  </thead>\n",
       "  <tbody>\n",
       "    <tr>\n",
       "      <th>0</th>\n",
       "      <td>SWH-05-20101106_16k-emission_swahili_05h30_-_0...</td>\n",
       "      <td>rais wa tanzania jakaya mrisho kikwete</td>\n",
       "      <td>SWH-05-20101106/SWH-05-20101106_16k-emission_s...</td>\n",
       "      <td>16000</td>\n",
       "      <td>3.14</td>\n",
       "    </tr>\n",
       "    <tr>\n",
       "      <th>1</th>\n",
       "      <td>SWH-05-20101106_16k-emission_swahili_05h30_-_0...</td>\n",
       "      <td>yanayo andaliwa nami pendo pondo idhaa ya kisw...</td>\n",
       "      <td>SWH-05-20101106/SWH-05-20101106_16k-emission_s...</td>\n",
       "      <td>16000</td>\n",
       "      <td>3.10</td>\n",
       "    </tr>\n",
       "    <tr>\n",
       "      <th>2</th>\n",
       "      <td>SWH-05-20101106_16k-emission_swahili_05h30_-_0...</td>\n",
       "      <td>inayokutangazia moja kwa moja kutoka jijini da...</td>\n",
       "      <td>SWH-05-20101106/SWH-05-20101106_16k-emission_s...</td>\n",
       "      <td>16000</td>\n",
       "      <td>3.65</td>\n",
       "    </tr>\n",
       "    <tr>\n",
       "      <th>3</th>\n",
       "      <td>SWH-05-20101106_16k-emission_swahili_05h30_-_0...</td>\n",
       "      <td>juma hili bara la afrika limeshuhudia raia wa ...</td>\n",
       "      <td>SWH-05-20101106/SWH-05-20101106_16k-emission_s...</td>\n",
       "      <td>16000</td>\n",
       "      <td>3.90</td>\n",
       "    </tr>\n",
       "    <tr>\n",
       "      <th>4</th>\n",
       "      <td>SWH-05-20101106_16k-emission_swahili_05h30_-_0...</td>\n",
       "      <td>wakipiga kura ya maoni ilikufanya mabadiliko ya</td>\n",
       "      <td>SWH-05-20101106/SWH-05-20101106_16k-emission_s...</td>\n",
       "      <td>16000</td>\n",
       "      <td>2.94</td>\n",
       "    </tr>\n",
       "  </tbody>\n",
       "</table>\n",
       "</div>"
      ],
      "text/plain": [
       "                                            filename  \\\n",
       "0  SWH-05-20101106_16k-emission_swahili_05h30_-_0...   \n",
       "1  SWH-05-20101106_16k-emission_swahili_05h30_-_0...   \n",
       "2  SWH-05-20101106_16k-emission_swahili_05h30_-_0...   \n",
       "3  SWH-05-20101106_16k-emission_swahili_05h30_-_0...   \n",
       "4  SWH-05-20101106_16k-emission_swahili_05h30_-_0...   \n",
       "\n",
       "                                       transcription  \\\n",
       "0             rais wa tanzania jakaya mrisho kikwete   \n",
       "1  yanayo andaliwa nami pendo pondo idhaa ya kisw...   \n",
       "2  inayokutangazia moja kwa moja kutoka jijini da...   \n",
       "3  juma hili bara la afrika limeshuhudia raia wa ...   \n",
       "4    wakipiga kura ya maoni ilikufanya mabadiliko ya   \n",
       "\n",
       "                                            filepath  sample_rate  duration  \n",
       "0  SWH-05-20101106/SWH-05-20101106_16k-emission_s...        16000      3.14  \n",
       "1  SWH-05-20101106/SWH-05-20101106_16k-emission_s...        16000      3.10  \n",
       "2  SWH-05-20101106/SWH-05-20101106_16k-emission_s...        16000      3.65  \n",
       "3  SWH-05-20101106/SWH-05-20101106_16k-emission_s...        16000      3.90  \n",
       "4  SWH-05-20101106/SWH-05-20101106_16k-emission_s...        16000      2.94  "
      ]
     },
     "execution_count": 7,
     "metadata": {},
     "output_type": "execute_result"
    }
   ],
   "source": [
    "meta_data.head()"
   ]
  },
  {
   "cell_type": "code",
   "execution_count": 8,
   "metadata": {},
   "outputs": [
    {
     "data": {
      "text/plain": [
       "16000    10180\n",
       "Name: sample_rate, dtype: int64"
      ]
     },
     "execution_count": 8,
     "metadata": {},
     "output_type": "execute_result"
    }
   ],
   "source": [
    "meta_data['sample_rate'].value_counts()"
   ]
  },
  {
   "cell_type": "code",
   "execution_count": 17,
   "metadata": {},
   "outputs": [],
   "source": [
    "duration_df = meta_data[['duration', 'filename']]"
   ]
  },
  {
   "cell_type": "code",
   "execution_count": 18,
   "metadata": {},
   "outputs": [
    {
     "data": {
      "text/html": [
       "<div>\n",
       "<style scoped>\n",
       "    .dataframe tbody tr th:only-of-type {\n",
       "        vertical-align: middle;\n",
       "    }\n",
       "\n",
       "    .dataframe tbody tr th {\n",
       "        vertical-align: top;\n",
       "    }\n",
       "\n",
       "    .dataframe thead th {\n",
       "        text-align: right;\n",
       "    }\n",
       "</style>\n",
       "<table border=\"1\" class=\"dataframe\">\n",
       "  <thead>\n",
       "    <tr style=\"text-align: right;\">\n",
       "      <th></th>\n",
       "      <th>duration</th>\n",
       "    </tr>\n",
       "  </thead>\n",
       "  <tbody>\n",
       "    <tr>\n",
       "      <th>count</th>\n",
       "      <td>10180.000000</td>\n",
       "    </tr>\n",
       "    <tr>\n",
       "      <th>mean</th>\n",
       "      <td>3.504845</td>\n",
       "    </tr>\n",
       "    <tr>\n",
       "      <th>std</th>\n",
       "      <td>1.024975</td>\n",
       "    </tr>\n",
       "    <tr>\n",
       "      <th>min</th>\n",
       "      <td>2.159750</td>\n",
       "    </tr>\n",
       "    <tr>\n",
       "      <th>25%</th>\n",
       "      <td>2.650000</td>\n",
       "    </tr>\n",
       "    <tr>\n",
       "      <th>50%</th>\n",
       "      <td>3.279906</td>\n",
       "    </tr>\n",
       "    <tr>\n",
       "      <th>75%</th>\n",
       "      <td>4.179953</td>\n",
       "    </tr>\n",
       "    <tr>\n",
       "      <th>max</th>\n",
       "      <td>6.150000</td>\n",
       "    </tr>\n",
       "  </tbody>\n",
       "</table>\n",
       "</div>"
      ],
      "text/plain": [
       "           duration\n",
       "count  10180.000000\n",
       "mean       3.504845\n",
       "std        1.024975\n",
       "min        2.159750\n",
       "25%        2.650000\n",
       "50%        3.279906\n",
       "75%        4.179953\n",
       "max        6.150000"
      ]
     },
     "execution_count": 18,
     "metadata": {},
     "output_type": "execute_result"
    }
   ],
   "source": [
    "duration_df.describe()"
   ]
  },
  {
   "cell_type": "markdown",
   "metadata": {},
   "source": [
    "###  the max duration is 6.1s\n",
    "### the min duration is also 2.1s"
   ]
  },
  {
   "cell_type": "code",
   "execution_count": 19,
   "metadata": {},
   "outputs": [
    {
     "data": {
      "text/plain": [
       "<Figure size 648x504 with 0 Axes>"
      ]
     },
     "metadata": {},
     "output_type": "display_data"
    },
    {
     "data": {
      "image/png": "[encoded data removed]",
      "text/plain": [
       "<Figure size 1008x504 with 1 Axes>"
      ]
     },
     "metadata": {
      "needs_background": "light"
     },
     "output_type": "display_data"
    }
   ],
   "source": [
    "plots.plot_hist(duration_df, 'duration', 'orange')"
   ]
  },
  {
   "cell_type": "code",
   "execution_count": 20,
   "metadata": {},
   "outputs": [
    {
     "data": {
      "image/png": "[encoded data removed]",
      "text/plain": [
       "<Figure size 864x504 with 1 Axes>"
      ]
     },
     "metadata": {
      "needs_background": "light"
     },
     "output_type": "display_data"
    }
   ],
   "source": [
    "plots.plot_box(duration_df, 'duration', 'outlier_detection for duration')"
   ]
  },
  {
   "cell_type": "code",
   "execution_count": null,
   "metadata": {},
   "outputs": [],
   "source": []
  },
  {
   "cell_type": "code",
   "execution_count": 33,
   "metadata": {},
   "outputs": [
    {
     "name": "stdout",
     "output_type": "stream",
     "text": [
      "long_audios\n"
     ]
    },
    {
     "data": {
      "text/html": [
       "<div>\n",
       "<style scoped>\n",
       "    .dataframe tbody tr th:only-of-type {\n",
       "        vertical-align: middle;\n",
       "    }\n",
       "\n",
       "    .dataframe tbody tr th {\n",
       "        vertical-align: top;\n",
       "    }\n",
       "\n",
       "    .dataframe thead th {\n",
       "        text-align: right;\n",
       "    }\n",
       "</style>\n",
       "<table border=\"1\" class=\"dataframe\">\n",
       "  <thead>\n",
       "    <tr style=\"text-align: right;\">\n",
       "      <th></th>\n",
       "      <th>duration</th>\n",
       "      <th>filename</th>\n",
       "    </tr>\n",
       "  </thead>\n",
       "  <tbody>\n",
       "    <tr>\n",
       "      <th>1181</th>\n",
       "      <td>6.150000</td>\n",
       "      <td>SWH-05-20101111_emission_swahili_05h30_-_06h00...</td>\n",
       "    </tr>\n",
       "    <tr>\n",
       "      <th>3111</th>\n",
       "      <td>6.140125</td>\n",
       "      <td>SWH-05-20110317_16k-emission_swahili_05h30_-_0...</td>\n",
       "    </tr>\n",
       "    <tr>\n",
       "      <th>164</th>\n",
       "      <td>6.140000</td>\n",
       "      <td>SWH-05-20101106_16k-emission_swahili_05h30_-_0...</td>\n",
       "    </tr>\n",
       "    <tr>\n",
       "      <th>9182</th>\n",
       "      <td>6.140000</td>\n",
       "      <td>SWH-15-20110224_16k-emission_swahili_15h00_-_1...</td>\n",
       "    </tr>\n",
       "    <tr>\n",
       "      <th>3063</th>\n",
       "      <td>6.140000</td>\n",
       "      <td>SWH-05-20110215_16k-emission_swahili_05h30_-_0...</td>\n",
       "    </tr>\n",
       "  </tbody>\n",
       "</table>\n",
       "</div>"
      ],
      "text/plain": [
       "      duration                                           filename\n",
       "1181  6.150000  SWH-05-20101111_emission_swahili_05h30_-_06h00...\n",
       "3111  6.140125  SWH-05-20110317_16k-emission_swahili_05h30_-_0...\n",
       "164   6.140000  SWH-05-20101106_16k-emission_swahili_05h30_-_0...\n",
       "9182  6.140000  SWH-15-20110224_16k-emission_swahili_15h00_-_1...\n",
       "3063  6.140000  SWH-05-20110215_16k-emission_swahili_05h30_-_0..."
      ]
     },
     "metadata": {},
     "output_type": "display_data"
    },
    {
     "name": "stdout",
     "output_type": "stream",
     "text": [
      "short audios\n"
     ]
    },
    {
     "data": {
      "text/html": [
       "<div>\n",
       "<style scoped>\n",
       "    .dataframe tbody tr th:only-of-type {\n",
       "        vertical-align: middle;\n",
       "    }\n",
       "\n",
       "    .dataframe tbody tr th {\n",
       "        vertical-align: top;\n",
       "    }\n",
       "\n",
       "    .dataframe thead th {\n",
       "        text-align: right;\n",
       "    }\n",
       "</style>\n",
       "<table border=\"1\" class=\"dataframe\">\n",
       "  <thead>\n",
       "    <tr style=\"text-align: right;\">\n",
       "      <th></th>\n",
       "      <th>duration</th>\n",
       "      <th>filename</th>\n",
       "    </tr>\n",
       "  </thead>\n",
       "  <tbody>\n",
       "    <tr>\n",
       "      <th>10036</th>\n",
       "      <td>2.159750</td>\n",
       "      <td>SWH-15-20110310_16k-emission_swahili_15h00_-_1...</td>\n",
       "    </tr>\n",
       "    <tr>\n",
       "      <th>7043</th>\n",
       "      <td>2.159875</td>\n",
       "      <td>SWH-15-20101227_16k-emission_swahili_15h00_-_1...</td>\n",
       "    </tr>\n",
       "    <tr>\n",
       "      <th>5331</th>\n",
       "      <td>2.159875</td>\n",
       "      <td>SWH-15-20101113_16k-emission_swahili_15h00_-_1...</td>\n",
       "    </tr>\n",
       "    <tr>\n",
       "      <th>6969</th>\n",
       "      <td>2.159875</td>\n",
       "      <td>SWH-15-20101227_16k-emission_swahili_15h00_-_1...</td>\n",
       "    </tr>\n",
       "    <tr>\n",
       "      <th>1800</th>\n",
       "      <td>2.159937</td>\n",
       "      <td>SWH-05-20101121_16k-emission_swahili_05h30_-_0...</td>\n",
       "    </tr>\n",
       "  </tbody>\n",
       "</table>\n",
       "</div>"
      ],
      "text/plain": [
       "       duration                                           filename\n",
       "10036  2.159750  SWH-15-20110310_16k-emission_swahili_15h00_-_1...\n",
       "7043   2.159875  SWH-15-20101227_16k-emission_swahili_15h00_-_1...\n",
       "5331   2.159875  SWH-15-20101113_16k-emission_swahili_15h00_-_1...\n",
       "6969   2.159875  SWH-15-20101227_16k-emission_swahili_15h00_-_1...\n",
       "1800   2.159937  SWH-05-20101121_16k-emission_swahili_05h30_-_0..."
      ]
     },
     "metadata": {},
     "output_type": "display_data"
    }
   ],
   "source": [
    "long_audios = duration_df.sort_values(by=\"duration\", ascending=False).head()\n",
    "print(\"long_audios\")\n",
    "display(long_audios)\n",
    "\n",
    "short_audios = duration_df.sort_values(by=\"duration\", ascending=True).head()\n",
    "print(\"short audios\")\n",
    "display(short_audios)"
   ]
  },
  {
   "cell_type": "code",
   "execution_count": 62,
   "metadata": {},
   "outputs": [],
   "source": [
    "def remove_space(snt: str) -> str:\n",
    "    sent_list =snt.split(' ')\n",
    "    return ''.join(sent_list)"
   ]
  },
  {
   "cell_type": "code",
   "execution_count": 63,
   "metadata": {},
   "outputs": [],
   "source": [
    "meta_data['trans_len'] = meta_data['transcription'].apply(lambda x: len(remove_space(x)))"
   ]
  },
  {
   "cell_type": "code",
   "execution_count": 66,
   "metadata": {},
   "outputs": [
    {
     "data": {
      "text/html": [
       "<div>\n",
       "<style scoped>\n",
       "    .dataframe tbody tr th:only-of-type {\n",
       "        vertical-align: middle;\n",
       "    }\n",
       "\n",
       "    .dataframe tbody tr th {\n",
       "        vertical-align: top;\n",
       "    }\n",
       "\n",
       "    .dataframe thead th {\n",
       "        text-align: right;\n",
       "    }\n",
       "</style>\n",
       "<table border=\"1\" class=\"dataframe\">\n",
       "  <thead>\n",
       "    <tr style=\"text-align: right;\">\n",
       "      <th></th>\n",
       "      <th>trans_len</th>\n",
       "    </tr>\n",
       "  </thead>\n",
       "  <tbody>\n",
       "    <tr>\n",
       "      <th>count</th>\n",
       "      <td>10180.000000</td>\n",
       "    </tr>\n",
       "    <tr>\n",
       "      <th>mean</th>\n",
       "      <td>48.646464</td>\n",
       "    </tr>\n",
       "    <tr>\n",
       "      <th>std</th>\n",
       "      <td>19.181515</td>\n",
       "    </tr>\n",
       "    <tr>\n",
       "      <th>min</th>\n",
       "      <td>5.000000</td>\n",
       "    </tr>\n",
       "    <tr>\n",
       "      <th>25%</th>\n",
       "      <td>36.000000</td>\n",
       "    </tr>\n",
       "    <tr>\n",
       "      <th>50%</th>\n",
       "      <td>46.000000</td>\n",
       "    </tr>\n",
       "    <tr>\n",
       "      <th>75%</th>\n",
       "      <td>60.000000</td>\n",
       "    </tr>\n",
       "    <tr>\n",
       "      <th>max</th>\n",
       "      <td>121.000000</td>\n",
       "    </tr>\n",
       "  </tbody>\n",
       "</table>\n",
       "</div>"
      ],
      "text/plain": [
       "          trans_len\n",
       "count  10180.000000\n",
       "mean      48.646464\n",
       "std       19.181515\n",
       "min        5.000000\n",
       "25%       36.000000\n",
       "50%       46.000000\n",
       "75%       60.000000\n",
       "max      121.000000"
      ]
     },
     "metadata": {},
     "output_type": "display_data"
    },
    {
     "data": {
      "text/plain": [
       "<Figure size 648x504 with 0 Axes>"
      ]
     },
     "metadata": {},
     "output_type": "display_data"
    },
    {
     "data": {
      "image/png": "[encoded data removed]",
      "text/plain": [
       "<Figure size 1008x504 with 1 Axes>"
      ]
     },
     "metadata": {
      "needs_background": "light"
     },
     "output_type": "display_data"
    },
    {
     "name": "stdout",
     "output_type": "stream",
     "text": [
      "long transaltions\n"
     ]
    },
    {
     "data": {
      "text/html": [
       "<div>\n",
       "<style scoped>\n",
       "    .dataframe tbody tr th:only-of-type {\n",
       "        vertical-align: middle;\n",
       "    }\n",
       "\n",
       "    .dataframe tbody tr th {\n",
       "        vertical-align: top;\n",
       "    }\n",
       "\n",
       "    .dataframe thead th {\n",
       "        text-align: right;\n",
       "    }\n",
       "</style>\n",
       "<table border=\"1\" class=\"dataframe\">\n",
       "  <thead>\n",
       "    <tr style=\"text-align: right;\">\n",
       "      <th></th>\n",
       "      <th>trans_len</th>\n",
       "      <th>filename</th>\n",
       "    </tr>\n",
       "  </thead>\n",
       "  <tbody>\n",
       "    <tr>\n",
       "      <th>6061</th>\n",
       "      <td>121</td>\n",
       "      <td>SWH-15-20101117_16k-emission_swahili_15h00_-_1...</td>\n",
       "    </tr>\n",
       "    <tr>\n",
       "      <th>9770</th>\n",
       "      <td>117</td>\n",
       "      <td>SWH-15-20110310_16k-emission_swahili_15h00_-_1...</td>\n",
       "    </tr>\n",
       "    <tr>\n",
       "      <th>6434</th>\n",
       "      <td>116</td>\n",
       "      <td>SWH-15-20101117_16k-emission_swahili_15h00_-_1...</td>\n",
       "    </tr>\n",
       "    <tr>\n",
       "      <th>93</th>\n",
       "      <td>116</td>\n",
       "      <td>SWH-05-20101106_16k-emission_swahili_05h30_-_0...</td>\n",
       "    </tr>\n",
       "    <tr>\n",
       "      <th>6380</th>\n",
       "      <td>116</td>\n",
       "      <td>SWH-15-20101117_16k-emission_swahili_15h00_-_1...</td>\n",
       "    </tr>\n",
       "  </tbody>\n",
       "</table>\n",
       "</div>"
      ],
      "text/plain": [
       "      trans_len                                           filename\n",
       "6061        121  SWH-15-20101117_16k-emission_swahili_15h00_-_1...\n",
       "9770        117  SWH-15-20110310_16k-emission_swahili_15h00_-_1...\n",
       "6434        116  SWH-15-20101117_16k-emission_swahili_15h00_-_1...\n",
       "93          116  SWH-05-20101106_16k-emission_swahili_05h30_-_0...\n",
       "6380        116  SWH-15-20101117_16k-emission_swahili_15h00_-_1..."
      ]
     },
     "metadata": {},
     "output_type": "display_data"
    },
    {
     "name": "stdout",
     "output_type": "stream",
     "text": [
      "short transaltions\n"
     ]
    },
    {
     "data": {
      "text/html": [
       "<div>\n",
       "<style scoped>\n",
       "    .dataframe tbody tr th:only-of-type {\n",
       "        vertical-align: middle;\n",
       "    }\n",
       "\n",
       "    .dataframe tbody tr th {\n",
       "        vertical-align: top;\n",
       "    }\n",
       "\n",
       "    .dataframe thead th {\n",
       "        text-align: right;\n",
       "    }\n",
       "</style>\n",
       "<table border=\"1\" class=\"dataframe\">\n",
       "  <thead>\n",
       "    <tr style=\"text-align: right;\">\n",
       "      <th></th>\n",
       "      <th>trans_len</th>\n",
       "      <th>filename</th>\n",
       "    </tr>\n",
       "  </thead>\n",
       "  <tbody>\n",
       "    <tr>\n",
       "      <th>922</th>\n",
       "      <td>5</td>\n",
       "      <td>SWH-05-20101110_16k-emission_swahili_15h00_-_1...</td>\n",
       "    </tr>\n",
       "    <tr>\n",
       "      <th>3946</th>\n",
       "      <td>5</td>\n",
       "      <td>SWH-15-20101103_emission_swahili_15h00_-_16h00...</td>\n",
       "    </tr>\n",
       "    <tr>\n",
       "      <th>9819</th>\n",
       "      <td>5</td>\n",
       "      <td>SWH-15-20110310_16k-emission_swahili_15h00_-_1...</td>\n",
       "    </tr>\n",
       "    <tr>\n",
       "      <th>5371</th>\n",
       "      <td>5</td>\n",
       "      <td>SWH-15-20101113_16k-emission_swahili_15h00_-_1...</td>\n",
       "    </tr>\n",
       "    <tr>\n",
       "      <th>9448</th>\n",
       "      <td>5</td>\n",
       "      <td>SWH-15-20110303_16k-emission_swahili_15h00_-_1...</td>\n",
       "    </tr>\n",
       "  </tbody>\n",
       "</table>\n",
       "</div>"
      ],
      "text/plain": [
       "      trans_len                                           filename\n",
       "922           5  SWH-05-20101110_16k-emission_swahili_15h00_-_1...\n",
       "3946          5  SWH-15-20101103_emission_swahili_15h00_-_16h00...\n",
       "9819          5  SWH-15-20110310_16k-emission_swahili_15h00_-_1...\n",
       "5371          5  SWH-15-20101113_16k-emission_swahili_15h00_-_1...\n",
       "9448          5  SWH-15-20110303_16k-emission_swahili_15h00_-_1..."
      ]
     },
     "metadata": {},
     "output_type": "display_data"
    }
   ],
   "source": [
    "trans_df = meta_data[['trans_len', 'filename']]\n",
    "display(trans_df.describe())\n",
    "plots.plot_hist(trans_df, 'trans_len', 'green')\n",
    "\n",
    "long_chars = trans_df.sort_values(by=\"trans_len\", ascending=False).head()\n",
    "print(\"long transaltions\")\n",
    "display(long_chars)\n",
    "\n",
    "short_chars = trans_df.sort_values(by=\"trans_len\", ascending=True).head()\n",
    "print(\"short transaltions\")\n",
    "display(short_chars)"
   ]
  },
  {
   "cell_type": "code",
   "execution_count": 69,
   "metadata": {},
   "outputs": [],
   "source": [
    "meta_data['char_per_sec'] = meta_data['trans_len']/meta_data['duration']"
   ]
  },
  {
   "cell_type": "code",
   "execution_count": 70,
   "metadata": {},
   "outputs": [
    {
     "data": {
      "text/html": [
       "<div>\n",
       "<style scoped>\n",
       "    .dataframe tbody tr th:only-of-type {\n",
       "        vertical-align: middle;\n",
       "    }\n",
       "\n",
       "    .dataframe tbody tr th {\n",
       "        vertical-align: top;\n",
       "    }\n",
       "\n",
       "    .dataframe thead th {\n",
       "        text-align: right;\n",
       "    }\n",
       "</style>\n",
       "<table border=\"1\" class=\"dataframe\">\n",
       "  <thead>\n",
       "    <tr style=\"text-align: right;\">\n",
       "      <th></th>\n",
       "      <th>filename</th>\n",
       "      <th>transcription</th>\n",
       "      <th>filepath</th>\n",
       "      <th>sample_rate</th>\n",
       "      <th>duration</th>\n",
       "      <th>trans_len</th>\n",
       "      <th>char_per_sec</th>\n",
       "    </tr>\n",
       "  </thead>\n",
       "  <tbody>\n",
       "    <tr>\n",
       "      <th>0</th>\n",
       "      <td>SWH-05-20101106_16k-emission_swahili_05h30_-_0...</td>\n",
       "      <td>rais wa tanzania jakaya mrisho kikwete</td>\n",
       "      <td>SWH-05-20101106/SWH-05-20101106_16k-emission_s...</td>\n",
       "      <td>16000</td>\n",
       "      <td>3.140000</td>\n",
       "      <td>33</td>\n",
       "      <td>10.509554</td>\n",
       "    </tr>\n",
       "    <tr>\n",
       "      <th>1</th>\n",
       "      <td>SWH-05-20101106_16k-emission_swahili_05h30_-_0...</td>\n",
       "      <td>yanayo andaliwa nami pendo pondo idhaa ya kisw...</td>\n",
       "      <td>SWH-05-20101106/SWH-05-20101106_16k-emission_s...</td>\n",
       "      <td>16000</td>\n",
       "      <td>3.100000</td>\n",
       "      <td>44</td>\n",
       "      <td>14.193548</td>\n",
       "    </tr>\n",
       "    <tr>\n",
       "      <th>2</th>\n",
       "      <td>SWH-05-20101106_16k-emission_swahili_05h30_-_0...</td>\n",
       "      <td>inayokutangazia moja kwa moja kutoka jijini da...</td>\n",
       "      <td>SWH-05-20101106/SWH-05-20101106_16k-emission_s...</td>\n",
       "      <td>16000</td>\n",
       "      <td>3.650000</td>\n",
       "      <td>57</td>\n",
       "      <td>15.616438</td>\n",
       "    </tr>\n",
       "    <tr>\n",
       "      <th>3</th>\n",
       "      <td>SWH-05-20101106_16k-emission_swahili_05h30_-_0...</td>\n",
       "      <td>juma hili bara la afrika limeshuhudia raia wa ...</td>\n",
       "      <td>SWH-05-20101106/SWH-05-20101106_16k-emission_s...</td>\n",
       "      <td>16000</td>\n",
       "      <td>3.900000</td>\n",
       "      <td>49</td>\n",
       "      <td>12.564103</td>\n",
       "    </tr>\n",
       "    <tr>\n",
       "      <th>4</th>\n",
       "      <td>SWH-05-20101106_16k-emission_swahili_05h30_-_0...</td>\n",
       "      <td>wakipiga kura ya maoni ilikufanya mabadiliko ya</td>\n",
       "      <td>SWH-05-20101106/SWH-05-20101106_16k-emission_s...</td>\n",
       "      <td>16000</td>\n",
       "      <td>2.940000</td>\n",
       "      <td>41</td>\n",
       "      <td>13.945578</td>\n",
       "    </tr>\n",
       "    <tr>\n",
       "      <th>...</th>\n",
       "      <td>...</td>\n",
       "      <td>...</td>\n",
       "      <td>...</td>\n",
       "      <td>...</td>\n",
       "      <td>...</td>\n",
       "      <td>...</td>\n",
       "      <td>...</td>\n",
       "    </tr>\n",
       "    <tr>\n",
       "      <th>10175</th>\n",
       "      <td>SWH-15-20110310_16k-emission_swahili_15h00_-_1...</td>\n",
       "      <td>na somo lile lililopokelewa kule kenya</td>\n",
       "      <td>SWH-15-20110310/SWH-15-20110310_16k-emission_s...</td>\n",
       "      <td>16000</td>\n",
       "      <td>2.500062</td>\n",
       "      <td>33</td>\n",
       "      <td>13.199670</td>\n",
       "    </tr>\n",
       "    <tr>\n",
       "      <th>10176</th>\n",
       "      <td>SWH-15-20110310_16k-emission_swahili_15h00_-_1...</td>\n",
       "      <td>ambapo mtu aliyeshindwa kwenye uchaguzi</td>\n",
       "      <td>SWH-15-20110310/SWH-15-20110310_16k-emission_s...</td>\n",
       "      <td>16000</td>\n",
       "      <td>2.910000</td>\n",
       "      <td>35</td>\n",
       "      <td>12.027491</td>\n",
       "    </tr>\n",
       "    <tr>\n",
       "      <th>10177</th>\n",
       "      <td>SWH-15-20110310_16k-emission_swahili_15h00_-_1...</td>\n",
       "      <td>ni kauli yake mchambuzi wa masuala ya siasa</td>\n",
       "      <td>SWH-15-20110310/SWH-15-20110310_16k-emission_s...</td>\n",
       "      <td>16000</td>\n",
       "      <td>2.950000</td>\n",
       "      <td>36</td>\n",
       "      <td>12.203390</td>\n",
       "    </tr>\n",
       "    <tr>\n",
       "      <th>10178</th>\n",
       "      <td>SWH-15-20110310_16k-emission_swahili_15h00_-_1...</td>\n",
       "      <td>mwanasheria anayemtetea rais wa zamani wa liberia</td>\n",
       "      <td>SWH-15-20110310/SWH-15-20110310_16k-emission_s...</td>\n",
       "      <td>16000</td>\n",
       "      <td>2.590000</td>\n",
       "      <td>43</td>\n",
       "      <td>16.602317</td>\n",
       "    </tr>\n",
       "    <tr>\n",
       "      <th>10179</th>\n",
       "      <td>SWH-15-20110310_16k-emission_swahili_15h00_-_1...</td>\n",
       "      <td>na kesi yake ya kubadilishana almasi na silaha...</td>\n",
       "      <td>SWH-15-20110310/SWH-15-20110310_16k-emission_s...</td>\n",
       "      <td>16000</td>\n",
       "      <td>5.010000</td>\n",
       "      <td>72</td>\n",
       "      <td>14.371257</td>\n",
       "    </tr>\n",
       "  </tbody>\n",
       "</table>\n",
       "<p>10180 rows × 7 columns</p>\n",
       "</div>"
      ],
      "text/plain": [
       "                                                filename  \\\n",
       "0      SWH-05-20101106_16k-emission_swahili_05h30_-_0...   \n",
       "1      SWH-05-20101106_16k-emission_swahili_05h30_-_0...   \n",
       "2      SWH-05-20101106_16k-emission_swahili_05h30_-_0...   \n",
       "3      SWH-05-20101106_16k-emission_swahili_05h30_-_0...   \n",
       "4      SWH-05-20101106_16k-emission_swahili_05h30_-_0...   \n",
       "...                                                  ...   \n",
       "10175  SWH-15-20110310_16k-emission_swahili_15h00_-_1...   \n",
       "10176  SWH-15-20110310_16k-emission_swahili_15h00_-_1...   \n",
       "10177  SWH-15-20110310_16k-emission_swahili_15h00_-_1...   \n",
       "10178  SWH-15-20110310_16k-emission_swahili_15h00_-_1...   \n",
       "10179  SWH-15-20110310_16k-emission_swahili_15h00_-_1...   \n",
       "\n",
       "                                           transcription  \\\n",
       "0                 rais wa tanzania jakaya mrisho kikwete   \n",
       "1      yanayo andaliwa nami pendo pondo idhaa ya kisw...   \n",
       "2      inayokutangazia moja kwa moja kutoka jijini da...   \n",
       "3      juma hili bara la afrika limeshuhudia raia wa ...   \n",
       "4        wakipiga kura ya maoni ilikufanya mabadiliko ya   \n",
       "...                                                  ...   \n",
       "10175             na somo lile lililopokelewa kule kenya   \n",
       "10176            ambapo mtu aliyeshindwa kwenye uchaguzi   \n",
       "10177        ni kauli yake mchambuzi wa masuala ya siasa   \n",
       "10178  mwanasheria anayemtetea rais wa zamani wa liberia   \n",
       "10179  na kesi yake ya kubadilishana almasi na silaha...   \n",
       "\n",
       "                                                filepath  sample_rate  \\\n",
       "0      SWH-05-20101106/SWH-05-20101106_16k-emission_s...        16000   \n",
       "1      SWH-05-20101106/SWH-05-20101106_16k-emission_s...        16000   \n",
       "2      SWH-05-20101106/SWH-05-20101106_16k-emission_s...        16000   \n",
       "3      SWH-05-20101106/SWH-05-20101106_16k-emission_s...        16000   \n",
       "4      SWH-05-20101106/SWH-05-20101106_16k-emission_s...        16000   \n",
       "...                                                  ...          ...   \n",
       "10175  SWH-15-20110310/SWH-15-20110310_16k-emission_s...        16000   \n",
       "10176  SWH-15-20110310/SWH-15-20110310_16k-emission_s...        16000   \n",
       "10177  SWH-15-20110310/SWH-15-20110310_16k-emission_s...        16000   \n",
       "10178  SWH-15-20110310/SWH-15-20110310_16k-emission_s...        16000   \n",
       "10179  SWH-15-20110310/SWH-15-20110310_16k-emission_s...        16000   \n",
       "\n",
       "       duration  trans_len  char_per_sec  \n",
       "0      3.140000         33     10.509554  \n",
       "1      3.100000         44     14.193548  \n",
       "2      3.650000         57     15.616438  \n",
       "3      3.900000         49     12.564103  \n",
       "4      2.940000         41     13.945578  \n",
       "...         ...        ...           ...  \n",
       "10175  2.500062         33     13.199670  \n",
       "10176  2.910000         35     12.027491  \n",
       "10177  2.950000         36     12.203390  \n",
       "10178  2.590000         43     16.602317  \n",
       "10179  5.010000         72     14.371257  \n",
       "\n",
       "[10180 rows x 7 columns]"
      ]
     },
     "execution_count": 70,
     "metadata": {},
     "output_type": "execute_result"
    }
   ],
   "source": [
    "meta_data"
   ]
  },
  {
   "cell_type": "code",
   "execution_count": 72,
   "metadata": {},
   "outputs": [
    {
     "data": {
      "text/html": [
       "<div>\n",
       "<style scoped>\n",
       "    .dataframe tbody tr th:only-of-type {\n",
       "        vertical-align: middle;\n",
       "    }\n",
       "\n",
       "    .dataframe tbody tr th {\n",
       "        vertical-align: top;\n",
       "    }\n",
       "\n",
       "    .dataframe thead th {\n",
       "        text-align: right;\n",
       "    }\n",
       "</style>\n",
       "<table border=\"1\" class=\"dataframe\">\n",
       "  <thead>\n",
       "    <tr style=\"text-align: right;\">\n",
       "      <th></th>\n",
       "      <th>char_per_sec</th>\n",
       "    </tr>\n",
       "  </thead>\n",
       "  <tbody>\n",
       "    <tr>\n",
       "      <th>count</th>\n",
       "      <td>10180.000000</td>\n",
       "    </tr>\n",
       "    <tr>\n",
       "      <th>mean</th>\n",
       "      <td>13.881525</td>\n",
       "    </tr>\n",
       "    <tr>\n",
       "      <th>std</th>\n",
       "      <td>3.485455</td>\n",
       "    </tr>\n",
       "    <tr>\n",
       "      <th>min</th>\n",
       "      <td>0.967118</td>\n",
       "    </tr>\n",
       "    <tr>\n",
       "      <th>25%</th>\n",
       "      <td>12.280702</td>\n",
       "    </tr>\n",
       "    <tr>\n",
       "      <th>50%</th>\n",
       "      <td>14.320398</td>\n",
       "    </tr>\n",
       "    <tr>\n",
       "      <th>75%</th>\n",
       "      <td>16.136141</td>\n",
       "    </tr>\n",
       "    <tr>\n",
       "      <th>max</th>\n",
       "      <td>26.546661</td>\n",
       "    </tr>\n",
       "  </tbody>\n",
       "</table>\n",
       "</div>"
      ],
      "text/plain": [
       "       char_per_sec\n",
       "count  10180.000000\n",
       "mean      13.881525\n",
       "std        3.485455\n",
       "min        0.967118\n",
       "25%       12.280702\n",
       "50%       14.320398\n",
       "75%       16.136141\n",
       "max       26.546661"
      ]
     },
     "metadata": {},
     "output_type": "display_data"
    },
    {
     "data": {
      "text/plain": [
       "<Figure size 648x504 with 0 Axes>"
      ]
     },
     "metadata": {},
     "output_type": "display_data"
    },
    {
     "data": {
      "image/png": "[encoded data removed]",
      "text/plain": [
       "<Figure size 1008x504 with 1 Axes>"
      ]
     },
     "metadata": {
      "needs_background": "light"
     },
     "output_type": "display_data"
    }
   ],
   "source": [
    "char_per_sec_df = meta_data[['char_per_sec', 'filename']]\n",
    "display(char_per_sec_df.describe())\n",
    "plots.plot_hist(char_per_sec_df, 'char_per_sec', 'green')"
   ]
  },
  {
   "cell_type": "code",
   "execution_count": 75,
   "metadata": {},
   "outputs": [],
   "source": [
    "# lambda x: len(x.split(' '))"
   ]
  },
  {
   "cell_type": "code",
   "execution_count": null,
   "metadata": {},
   "outputs": [],
   "source": []
  }
 ],
 "metadata": {
  "colab": {
   "include_colab_link": true,
   "name": "EDA.ipynb",
   "provenance": []
  },
  "kernelspec": {
   "display_name": "Python 3",
   "language": "python",
   "name": "python3"
  },
  "language_info": {
   "codemirror_mode": {
    "name": "ipython",
    "version": 3
   },
   "file_extension": ".py",
   "mimetype": "text/x-python",
   "name": "python",
   "nbconvert_exporter": "python",
   "pygments_lexer": "ipython3",
   "version": "3.9.1"
  },
  "metadata": {
   "interpreter": {
    "hash": "916dbcbb3f70747c44a77c7bcd40155683ae19c65e1c03b4aa3499c5328201f1"
   }
  }
 },
 "nbformat": 4,
 "nbformat_minor": 1
}
