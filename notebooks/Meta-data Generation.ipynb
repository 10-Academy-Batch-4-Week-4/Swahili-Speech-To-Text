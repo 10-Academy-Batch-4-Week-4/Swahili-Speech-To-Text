{
  "nbformat": 4,
  "nbformat_minor": 0,
  "metadata": {
    "kernelspec": {
      "name": "python3",
      "display_name": "Python 3"
    },
    "metadata": {
      "interpreter": {
        "hash": "916dbcbb3f70747c44a77c7bcd40155683ae19c65e1c03b4aa3499c5328201f1"
      }
    },
    "orig_nbformat": 2,
    "colab": {
      "name": "Meta-data Generation.ipynb",
      "provenance": [],
      "include_colab_link": true
    },
    "language_info": {
      "name": "python"
    }
  },
  "cells": [
    {
      "cell_type": "markdown",
      "metadata": {
        "id": "view-in-github",
        "colab_type": "text"
      },
      "source": [
        "<a href=\"https://colab.research.google.com/github/zelalemgetahun9374/Swahili-Speech-To-Text/blob/main/notebooks/Meta-data%20Generation.ipynb\" target=\"_parent\"><img src=\"https://colab.research.google.com/assets/colab-badge.svg\" alt=\"Open In Colab\"/></a>"
      ]
    },
    {
      "cell_type": "markdown",
      "metadata": {
        "id": "3tPNYW1USC5d"
      },
      "source": [
        "# Meta-data Generation"
      ]
    },
    {
      "cell_type": "code",
      "metadata": {
        "colab": {
          "base_uri": "https://localhost:8080/"
        },
        "id": "-n_2bLUp6N0p",
        "outputId": "9af3c87c-3909-4dea-91d3-ba26825a115f"
      },
      "source": [
        "from google.colab import drive\n",
        "drive.mount('/content/drive')"
      ],
      "execution_count": 1,
      "outputs": [
        {
          "output_type": "stream",
          "text": [
            "Mounted at /content/drive\n"
          ],
          "name": "stdout"
        }
      ]
    },
    {
      "cell_type": "code",
      "metadata": {
        "id": "ggOv8dcCU2wh"
      },
      "source": [
        "import librosa\n",
        "import pandas as pd"
      ],
      "execution_count": 7,
      "outputs": []
    },
    {
      "cell_type": "code",
      "metadata": {
        "colab": {
          "base_uri": "https://localhost:8080/"
        },
        "id": "A4_SfGG7Uyns",
        "outputId": "e98b7550-f000-421d-e5a2-be874167769c"
      },
      "source": [
        "import os\n",
        "os.chdir(\"/content/drive/MyDrive/Week-4/speech_data/ALFFA_PUBLIC/ASR/SWAHILI/data/train/wav\")\n",
        "folders = os.listdir()\n",
        "folders[:5]"
      ],
      "execution_count": 2,
      "outputs": [
        {
          "output_type": "execute_result",
          "data": {
            "text/plain": [
              "['SWH-05-20101106',\n",
              " 'SWH-05-20101107',\n",
              " 'SWH-05-20101109',\n",
              " 'SWH-05-20101110',\n",
              " 'SWH-05-20101111']"
            ]
          },
          "metadata": {
            "tags": []
          },
          "execution_count": 2
        }
      ]
    },
    {
      "cell_type": "code",
      "metadata": {
        "colab": {
          "base_uri": "https://localhost:8080/"
        },
        "id": "qgWlM50ZiNDO",
        "outputId": "786f92ea-919c-44e5-dcb4-f8cc5355c2b3"
      },
      "source": [
        "len(folders)"
      ],
      "execution_count": 3,
      "outputs": [
        {
          "output_type": "execute_result",
          "data": {
            "text/plain": [
              "30"
            ]
          },
          "metadata": {
            "tags": []
          },
          "execution_count": 3
        }
      ]
    },
    {
      "cell_type": "code",
      "metadata": {
        "id": "hxPV32hATVmI"
      },
      "source": [
        "def meta_data(path):\n",
        "  df=pd.read_csv(path,sep=\"\\t\",header=None)\n",
        "  df.columns=['filename', 'transcription']\n",
        "  # df = df.head(50)\n",
        "  filepaths=[]\n",
        "  sample_rates=[]\n",
        "  duration=[]\n",
        "  for f in df['filename']:\n",
        "    parent_folder=f.split('_')[0]\n",
        "    filepath = f'{parent_folder}/{f}.wav'\n",
        "    audio, fs = librosa.load(filepath, sr=None)\n",
        "    filepaths.append(filepath)\n",
        "    sample_rates.append(fs)\n",
        "    duration.append(float(len(audio)/fs))\n",
        "  df['filepath'] = filepaths\n",
        "  df['sample_rate'] = sample_rates\n",
        "  df['duration'] = duration\n",
        "  return df"
      ],
      "execution_count": 14,
      "outputs": []
    },
    {
      "cell_type": "code",
      "metadata": {
        "id": "9SmI6dkoa6eJ"
      },
      "source": [
        "meta_df = meta_data('../text.txt')"
      ],
      "execution_count": 15,
      "outputs": []
    },
    {
      "cell_type": "code",
      "metadata": {
        "id": "GcFfWesFpQPG",
        "outputId": "0f299fce-0493-4af3-9433-d7633e715d19",
        "colab": {
          "base_uri": "https://localhost:8080/",
          "height": 589
        }
      },
      "source": [
        "meta_df"
      ],
      "execution_count": 16,
      "outputs": [
        {
          "output_type": "execute_result",
          "data": {
            "text/html": [
              "<div>\n",
              "<style scoped>\n",
              "    .dataframe tbody tr th:only-of-type {\n",
              "        vertical-align: middle;\n",
              "    }\n",
              "\n",
              "    .dataframe tbody tr th {\n",
              "        vertical-align: top;\n",
              "    }\n",
              "\n",
              "    .dataframe thead th {\n",
              "        text-align: right;\n",
              "    }\n",
              "</style>\n",
              "<table border=\"1\" class=\"dataframe\">\n",
              "  <thead>\n",
              "    <tr style=\"text-align: right;\">\n",
              "      <th></th>\n",
              "      <th>filename</th>\n",
              "      <th>transcription</th>\n",
              "      <th>filepath</th>\n",
              "      <th>sample_rate</th>\n",
              "      <th>duration</th>\n",
              "    </tr>\n",
              "  </thead>\n",
              "  <tbody>\n",
              "    <tr>\n",
              "      <th>0</th>\n",
              "      <td>SWH-05-20101106_16k-emission_swahili_05h30_-_0...</td>\n",
              "      <td>rais wa tanzania jakaya mrisho kikwete</td>\n",
              "      <td>SWH-05-20101106/SWH-05-20101106_16k-emission_s...</td>\n",
              "      <td>16000</td>\n",
              "      <td>3.140000</td>\n",
              "    </tr>\n",
              "    <tr>\n",
              "      <th>1</th>\n",
              "      <td>SWH-05-20101106_16k-emission_swahili_05h30_-_0...</td>\n",
              "      <td>yanayo andaliwa nami pendo pondo idhaa ya kisw...</td>\n",
              "      <td>SWH-05-20101106/SWH-05-20101106_16k-emission_s...</td>\n",
              "      <td>16000</td>\n",
              "      <td>3.100000</td>\n",
              "    </tr>\n",
              "    <tr>\n",
              "      <th>2</th>\n",
              "      <td>SWH-05-20101106_16k-emission_swahili_05h30_-_0...</td>\n",
              "      <td>inayokutangazia moja kwa moja kutoka jijini da...</td>\n",
              "      <td>SWH-05-20101106/SWH-05-20101106_16k-emission_s...</td>\n",
              "      <td>16000</td>\n",
              "      <td>3.650000</td>\n",
              "    </tr>\n",
              "    <tr>\n",
              "      <th>3</th>\n",
              "      <td>SWH-05-20101106_16k-emission_swahili_05h30_-_0...</td>\n",
              "      <td>juma hili bara la afrika limeshuhudia raia wa ...</td>\n",
              "      <td>SWH-05-20101106/SWH-05-20101106_16k-emission_s...</td>\n",
              "      <td>16000</td>\n",
              "      <td>3.900000</td>\n",
              "    </tr>\n",
              "    <tr>\n",
              "      <th>4</th>\n",
              "      <td>SWH-05-20101106_16k-emission_swahili_05h30_-_0...</td>\n",
              "      <td>wakipiga kura ya maoni ilikufanya mabadiliko ya</td>\n",
              "      <td>SWH-05-20101106/SWH-05-20101106_16k-emission_s...</td>\n",
              "      <td>16000</td>\n",
              "      <td>2.940000</td>\n",
              "    </tr>\n",
              "    <tr>\n",
              "      <th>...</th>\n",
              "      <td>...</td>\n",
              "      <td>...</td>\n",
              "      <td>...</td>\n",
              "      <td>...</td>\n",
              "      <td>...</td>\n",
              "    </tr>\n",
              "    <tr>\n",
              "      <th>10175</th>\n",
              "      <td>SWH-15-20110310_16k-emission_swahili_15h00_-_1...</td>\n",
              "      <td>na somo lile lililopokelewa kule kenya</td>\n",
              "      <td>SWH-15-20110310/SWH-15-20110310_16k-emission_s...</td>\n",
              "      <td>16000</td>\n",
              "      <td>2.500062</td>\n",
              "    </tr>\n",
              "    <tr>\n",
              "      <th>10176</th>\n",
              "      <td>SWH-15-20110310_16k-emission_swahili_15h00_-_1...</td>\n",
              "      <td>ambapo mtu aliyeshindwa kwenye uchaguzi</td>\n",
              "      <td>SWH-15-20110310/SWH-15-20110310_16k-emission_s...</td>\n",
              "      <td>16000</td>\n",
              "      <td>2.910000</td>\n",
              "    </tr>\n",
              "    <tr>\n",
              "      <th>10177</th>\n",
              "      <td>SWH-15-20110310_16k-emission_swahili_15h00_-_1...</td>\n",
              "      <td>ni kauli yake mchambuzi wa masuala ya siasa</td>\n",
              "      <td>SWH-15-20110310/SWH-15-20110310_16k-emission_s...</td>\n",
              "      <td>16000</td>\n",
              "      <td>2.950000</td>\n",
              "    </tr>\n",
              "    <tr>\n",
              "      <th>10178</th>\n",
              "      <td>SWH-15-20110310_16k-emission_swahili_15h00_-_1...</td>\n",
              "      <td>mwanasheria anayemtetea rais wa zamani wa liberia</td>\n",
              "      <td>SWH-15-20110310/SWH-15-20110310_16k-emission_s...</td>\n",
              "      <td>16000</td>\n",
              "      <td>2.590000</td>\n",
              "    </tr>\n",
              "    <tr>\n",
              "      <th>10179</th>\n",
              "      <td>SWH-15-20110310_16k-emission_swahili_15h00_-_1...</td>\n",
              "      <td>na kesi yake ya kubadilishana almasi na silaha...</td>\n",
              "      <td>SWH-15-20110310/SWH-15-20110310_16k-emission_s...</td>\n",
              "      <td>16000</td>\n",
              "      <td>5.010000</td>\n",
              "    </tr>\n",
              "  </tbody>\n",
              "</table>\n",
              "<p>10180 rows × 5 columns</p>\n",
              "</div>"
            ],
            "text/plain": [
              "                                                filename  ...  duration\n",
              "0      SWH-05-20101106_16k-emission_swahili_05h30_-_0...  ...  3.140000\n",
              "1      SWH-05-20101106_16k-emission_swahili_05h30_-_0...  ...  3.100000\n",
              "2      SWH-05-20101106_16k-emission_swahili_05h30_-_0...  ...  3.650000\n",
              "3      SWH-05-20101106_16k-emission_swahili_05h30_-_0...  ...  3.900000\n",
              "4      SWH-05-20101106_16k-emission_swahili_05h30_-_0...  ...  2.940000\n",
              "...                                                  ...  ...       ...\n",
              "10175  SWH-15-20110310_16k-emission_swahili_15h00_-_1...  ...  2.500062\n",
              "10176  SWH-15-20110310_16k-emission_swahili_15h00_-_1...  ...  2.910000\n",
              "10177  SWH-15-20110310_16k-emission_swahili_15h00_-_1...  ...  2.950000\n",
              "10178  SWH-15-20110310_16k-emission_swahili_15h00_-_1...  ...  2.590000\n",
              "10179  SWH-15-20110310_16k-emission_swahili_15h00_-_1...  ...  5.010000\n",
              "\n",
              "[10180 rows x 5 columns]"
            ]
          },
          "metadata": {
            "tags": []
          },
          "execution_count": 16
        }
      ]
    },
    {
      "cell_type": "code",
      "metadata": {
        "id": "RmttUDmas8Cz"
      },
      "source": [
        "os.chdir(\"/content/drive/MyDrive/\")"
      ],
      "execution_count": 22,
      "outputs": []
    },
    {
      "cell_type": "code",
      "metadata": {
        "id": "-Azois73pU8c"
      },
      "source": [
        "meta_df.to_csv('metadata.csv', index=False)"
      ],
      "execution_count": 23,
      "outputs": []
    },
    {
      "cell_type": "code",
      "metadata": {
        "id": "jYyCQx7HtMLP",
        "outputId": "62c668a3-1e5b-44a0-98da-e60e758813ac",
        "colab": {
          "base_uri": "https://localhost:8080/",
          "height": 529
        }
      },
      "source": [
        "meta_df = pd.read_csv('metadata.csv')\n",
        "meta_df.head(10)"
      ],
      "execution_count": 24,
      "outputs": [
        {
          "output_type": "execute_result",
          "data": {
            "text/html": [
              "<div>\n",
              "<style scoped>\n",
              "    .dataframe tbody tr th:only-of-type {\n",
              "        vertical-align: middle;\n",
              "    }\n",
              "\n",
              "    .dataframe tbody tr th {\n",
              "        vertical-align: top;\n",
              "    }\n",
              "\n",
              "    .dataframe thead th {\n",
              "        text-align: right;\n",
              "    }\n",
              "</style>\n",
              "<table border=\"1\" class=\"dataframe\">\n",
              "  <thead>\n",
              "    <tr style=\"text-align: right;\">\n",
              "      <th></th>\n",
              "      <th>filename</th>\n",
              "      <th>transcription</th>\n",
              "      <th>filepath</th>\n",
              "      <th>sample_rate</th>\n",
              "      <th>duration</th>\n",
              "    </tr>\n",
              "  </thead>\n",
              "  <tbody>\n",
              "    <tr>\n",
              "      <th>0</th>\n",
              "      <td>SWH-05-20101106_16k-emission_swahili_05h30_-_0...</td>\n",
              "      <td>rais wa tanzania jakaya mrisho kikwete</td>\n",
              "      <td>SWH-05-20101106/SWH-05-20101106_16k-emission_s...</td>\n",
              "      <td>16000</td>\n",
              "      <td>3.14</td>\n",
              "    </tr>\n",
              "    <tr>\n",
              "      <th>1</th>\n",
              "      <td>SWH-05-20101106_16k-emission_swahili_05h30_-_0...</td>\n",
              "      <td>yanayo andaliwa nami pendo pondo idhaa ya kisw...</td>\n",
              "      <td>SWH-05-20101106/SWH-05-20101106_16k-emission_s...</td>\n",
              "      <td>16000</td>\n",
              "      <td>3.10</td>\n",
              "    </tr>\n",
              "    <tr>\n",
              "      <th>2</th>\n",
              "      <td>SWH-05-20101106_16k-emission_swahili_05h30_-_0...</td>\n",
              "      <td>inayokutangazia moja kwa moja kutoka jijini da...</td>\n",
              "      <td>SWH-05-20101106/SWH-05-20101106_16k-emission_s...</td>\n",
              "      <td>16000</td>\n",
              "      <td>3.65</td>\n",
              "    </tr>\n",
              "    <tr>\n",
              "      <th>3</th>\n",
              "      <td>SWH-05-20101106_16k-emission_swahili_05h30_-_0...</td>\n",
              "      <td>juma hili bara la afrika limeshuhudia raia wa ...</td>\n",
              "      <td>SWH-05-20101106/SWH-05-20101106_16k-emission_s...</td>\n",
              "      <td>16000</td>\n",
              "      <td>3.90</td>\n",
              "    </tr>\n",
              "    <tr>\n",
              "      <th>4</th>\n",
              "      <td>SWH-05-20101106_16k-emission_swahili_05h30_-_0...</td>\n",
              "      <td>wakipiga kura ya maoni ilikufanya mabadiliko ya</td>\n",
              "      <td>SWH-05-20101106/SWH-05-20101106_16k-emission_s...</td>\n",
              "      <td>16000</td>\n",
              "      <td>2.94</td>\n",
              "    </tr>\n",
              "    <tr>\n",
              "      <th>5</th>\n",
              "      <td>SWH-05-20101106_16k-emission_swahili_05h30_-_0...</td>\n",
              "      <td>kule abidjan raia wa jiji hilo</td>\n",
              "      <td>SWH-05-20101106/SWH-05-20101106_16k-emission_s...</td>\n",
              "      <td>16000</td>\n",
              "      <td>2.45</td>\n",
              "    </tr>\n",
              "    <tr>\n",
              "      <th>6</th>\n",
              "      <td>SWH-05-20101106_16k-emission_swahili_05h30_-_0...</td>\n",
              "      <td>walipata fursa ya kutumia haki yao ya msingi</td>\n",
              "      <td>SWH-05-20101106/SWH-05-20101106_16k-emission_s...</td>\n",
              "      <td>16000</td>\n",
              "      <td>2.62</td>\n",
              "    </tr>\n",
              "    <tr>\n",
              "      <th>7</th>\n",
              "      <td>SWH-05-20101106_16k-emission_swahili_05h30_-_0...</td>\n",
              "      <td>waziri mkuu wa zamani alasane watara</td>\n",
              "      <td>SWH-05-20101106/SWH-05-20101106_16k-emission_s...</td>\n",
              "      <td>16000</td>\n",
              "      <td>2.48</td>\n",
              "    </tr>\n",
              "    <tr>\n",
              "      <th>8</th>\n",
              "      <td>SWH-05-20101106_16k-emission_swahili_05h30_-_0...</td>\n",
              "      <td>na rais aliyetangulia henry konan berdi</td>\n",
              "      <td>SWH-05-20101106/SWH-05-20101106_16k-emission_s...</td>\n",
              "      <td>16000</td>\n",
              "      <td>3.53</td>\n",
              "    </tr>\n",
              "    <tr>\n",
              "      <th>9</th>\n",
              "      <td>SWH-05-20101106_16k-emission_swahili_05h30_-_0...</td>\n",
              "      <td>walichuana vikali na rais lauren bagbo</td>\n",
              "      <td>SWH-05-20101106/SWH-05-20101106_16k-emission_s...</td>\n",
              "      <td>16000</td>\n",
              "      <td>2.74</td>\n",
              "    </tr>\n",
              "  </tbody>\n",
              "</table>\n",
              "</div>"
            ],
            "text/plain": [
              "                                            filename  ... duration\n",
              "0  SWH-05-20101106_16k-emission_swahili_05h30_-_0...  ...     3.14\n",
              "1  SWH-05-20101106_16k-emission_swahili_05h30_-_0...  ...     3.10\n",
              "2  SWH-05-20101106_16k-emission_swahili_05h30_-_0...  ...     3.65\n",
              "3  SWH-05-20101106_16k-emission_swahili_05h30_-_0...  ...     3.90\n",
              "4  SWH-05-20101106_16k-emission_swahili_05h30_-_0...  ...     2.94\n",
              "5  SWH-05-20101106_16k-emission_swahili_05h30_-_0...  ...     2.45\n",
              "6  SWH-05-20101106_16k-emission_swahili_05h30_-_0...  ...     2.62\n",
              "7  SWH-05-20101106_16k-emission_swahili_05h30_-_0...  ...     2.48\n",
              "8  SWH-05-20101106_16k-emission_swahili_05h30_-_0...  ...     3.53\n",
              "9  SWH-05-20101106_16k-emission_swahili_05h30_-_0...  ...     2.74\n",
              "\n",
              "[10 rows x 5 columns]"
            ]
          },
          "metadata": {
            "tags": []
          },
          "execution_count": 24
        }
      ]
    }
  ]
}