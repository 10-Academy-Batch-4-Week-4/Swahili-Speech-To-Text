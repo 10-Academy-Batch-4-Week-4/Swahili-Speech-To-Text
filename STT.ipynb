{
 "cells": [
  {
   "cell_type": "markdown",
   "id": "f3da3bfe",
   "metadata": {},
   "source": [
    "### Loading libraries"
   ]
  },
  {
   "cell_type": "code",
   "execution_count": 1,
   "id": "2b8a5b4a",
   "metadata": {},
   "outputs": [],
   "source": [
    "import warnings\n",
    "warnings.filterwarnings(\"ignore\")\n",
    "\n",
    "import torch\n",
    "import torch.nn as nn\n",
    "from torch import tensor\n",
    "from torch import Tensor\n",
    "from torch.utils.data import Dataset\n",
    "\n",
    "import numpy as np\n",
    "import matplotlib.pyplot as plt\n",
    "\n",
    "import librosa"
   ]
  },
  {
   "cell_type": "code",
   "execution_count": 2,
   "id": "37e0bf57",
   "metadata": {},
   "outputs": [],
   "source": [
    "%load_ext autoreload\n",
    "%autoreload 2"
   ]
  },
  {
   "cell_type": "code",
   "execution_count": 3,
   "id": "f6e11b57",
   "metadata": {},
   "outputs": [],
   "source": [
    "from data_loader import Dataloader"
   ]
  },
  {
   "cell_type": "markdown",
   "id": "a54b6f1e",
   "metadata": {},
   "source": [
    "### Loading an audio"
   ]
  },
  {
   "cell_type": "code",
   "execution_count": 4,
   "id": "32e13585",
   "metadata": {},
   "outputs": [
    {
     "name": "stdout",
     "output_type": "stream",
     "text": [
      "length of train data: 205\n"
     ]
    }
   ],
   "source": [
    "train_dataset = Dataloader('data/train/SWH-05-20101106/', test=False)\n",
    "print(f'length of train data: {train_dataset.__len__()}')\n",
    "#test_dataset = Dataloader('data/test/SWH-05-20101124/', test=True)\n",
    "#print(f'length of test data: {test_dataset.__len__()}')"
   ]
  },
  {
   "cell_type": "code",
   "execution_count": 5,
   "id": "d45fd1f5",
   "metadata": {},
   "outputs": [],
   "source": [
    "train_dataloader = torch.utils.data.DataLoader(train_dataset, batch_size = 10)\n",
    "#test_dataloader = torch.utils.data.DataLoader(test_dataset, batch_size = 10)\n",
    "\n",
    "train_inputs, train_features = next(iter(train_dataloader))\n",
    "#test_inputs, test_features = next(iter(test_dataloader))\n"
   ]
  },
  {
   "cell_type": "code",
   "execution_count": 6,
   "id": "d7ee2431",
   "metadata": {},
   "outputs": [
    {
     "name": "stdout",
     "output_type": "stream",
     "text": [
      "torch.Size([1, 128, 128])\n",
      "torch.Size([1, 128, 128])\n",
      "torch.Size([1, 128, 128])\n",
      "torch.Size([1, 128, 128])\n",
      "torch.Size([1, 128, 128])\n",
      "torch.Size([1, 128, 128])\n",
      "torch.Size([1, 128, 128])\n",
      "torch.Size([1, 128, 128])\n",
      "torch.Size([1, 128, 128])\n",
      "torch.Size([1, 128, 128])\n"
     ]
    }
   ],
   "source": [
    "for file in train_inputs:\n",
    "    print(file.shape)"
   ]
  },
  {
   "cell_type": "code",
   "execution_count": null,
   "id": "a147b3bb",
   "metadata": {},
   "outputs": [],
   "source": []
  }
 ],
 "metadata": {
  "kernelspec": {
   "display_name": "Python 3",
   "language": "python",
   "name": "python3"
  },
  "language_info": {
   "codemirror_mode": {
    "name": "ipython",
    "version": 3
   },
   "file_extension": ".py",
   "mimetype": "text/x-python",
   "name": "python",
   "nbconvert_exporter": "python",
   "pygments_lexer": "ipython3",
   "version": "3.8.5"
  }
 },
 "nbformat": 4,
 "nbformat_minor": 5
}
